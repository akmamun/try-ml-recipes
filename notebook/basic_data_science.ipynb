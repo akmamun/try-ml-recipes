{
  "nbformat": 4,
  "nbformat_minor": 0,
  "metadata": {
    "colab": {
      "name": "Python basic for data science ",
      "version": "0.3.2",
      "provenance": [],
      "collapsed_sections": [],
      "toc_visible": true
    },
    "kernelspec": {
      "display_name": "Python 3",
      "name": "python3"
    }
  },
  "cells": [
    {
      "cell_type": "code",
      "metadata": {
        "id": "88Lm9iqLTES5",
        "colab_type": "code",
        "outputId": "ad383ee4-9780-4a98-c35b-a8afc36167ae",
        "colab": {
          "base_uri": "https://localhost:8080/",
          "height": 136
        }
      },
      "source": [
        "# for loop \n",
        "for i in range(4, 11):\n",
        "  print(i)"
      ],
      "execution_count": 0,
      "outputs": [
        {
          "output_type": "stream",
          "text": [
            "4\n",
            "5\n",
            "6\n",
            "7\n",
            "8\n",
            "9\n",
            "10\n"
          ],
          "name": "stdout"
        }
      ]
    },
    {
      "cell_type": "code",
      "metadata": {
        "id": "QZV5V6HsUWYP",
        "colab_type": "code",
        "outputId": "f1e24797-6317-42cb-deb2-7679baf941d2",
        "colab": {
          "base_uri": "https://localhost:8080/",
          "height": 68
        }
      },
      "source": [
        "array =[1,3,5]\n",
        "for i in range( len(array)):\n",
        "  print(i, array[i])"
      ],
      "execution_count": 0,
      "outputs": [
        {
          "output_type": "stream",
          "text": [
            "0 1\n",
            "1 3\n",
            "2 5\n"
          ],
          "name": "stdout"
        }
      ]
    },
    {
      "cell_type": "code",
      "metadata": {
        "id": "-Hl8tkYcVHxI",
        "colab_type": "code",
        "outputId": "34c5aa7d-05d0-449a-8e74-08c4da15075e",
        "colab": {
          "base_uri": "https://localhost:8080/",
          "height": 68
        }
      },
      "source": [
        "# instead of range\n",
        "array =[1,3,5]\n",
        "for i, val in enumerate(array):\n",
        "    print(i, val)"
      ],
      "execution_count": 0,
      "outputs": [
        {
          "output_type": "stream",
          "text": [
            "0 1\n",
            "1 3\n",
            "2 5\n"
          ],
          "name": "stdout"
        }
      ]
    },
    {
      "cell_type": "code",
      "metadata": {
        "id": "pNs0ZHPLV1Qx",
        "colab_type": "code",
        "outputId": "ea2916fa-8163-4737-f50b-750772cd598a",
        "colab": {
          "base_uri": "https://localhost:8080/",
          "height": 68
        }
      },
      "source": [
        "#multipe list iterate\n",
        "array =[1,3,5]\n",
        "s = [2,5,7]\n",
        "for i, val in zip(array, s):\n",
        "    print(i, val)"
      ],
      "execution_count": 0,
      "outputs": [
        {
          "output_type": "stream",
          "text": [
            "1 2\n",
            "3 5\n",
            "5 7\n"
          ],
          "name": "stdout"
        }
      ]
    },
    {
      "cell_type": "code",
      "metadata": {
        "id": "E6L6jLJMUS9I",
        "colab_type": "code",
        "outputId": "25354ad9-9f1e-44af-964b-43be1d8ae5b3",
        "colab": {
          "base_uri": "https://localhost:8080/",
          "height": 34
        }
      },
      "source": [
        "# find values up to 10 for which x % 2 is zero\n",
        "is_even = lambda x: x % 2 == 0\n",
        "for val in filter(is_even, range(10)):\n",
        "    print(val, end=' ')"
      ],
      "execution_count": 0,
      "outputs": [
        {
          "output_type": "stream",
          "text": [
            "0 2 4 6 8 "
          ],
          "name": "stdout"
        }
      ]
    },
    {
      "cell_type": "code",
      "metadata": {
        "id": "Z3b7RMGTzcN1",
        "colab_type": "code",
        "outputId": "776e728c-770f-45a8-9ddd-8d9db079455e",
        "colab": {
          "base_uri": "https://localhost:8080/",
          "height": 235
        }
      },
      "source": [
        "import pandas as pd\n",
        "df = pd.DataFrame({'label': ['A', 'B', 'C', 'A', 'B', 'C'],\n",
        "                   'value': [1, 2, 3, 4, 5, 6]})\n",
        "df"
      ],
      "execution_count": 0,
      "outputs": [
        {
          "output_type": "execute_result",
          "data": {
            "text/html": [
              "<div>\n",
              "<style scoped>\n",
              "    .dataframe tbody tr th:only-of-type {\n",
              "        vertical-align: middle;\n",
              "    }\n",
              "\n",
              "    .dataframe tbody tr th {\n",
              "        vertical-align: top;\n",
              "    }\n",
              "\n",
              "    .dataframe thead th {\n",
              "        text-align: right;\n",
              "    }\n",
              "</style>\n",
              "<table border=\"1\" class=\"dataframe\">\n",
              "  <thead>\n",
              "    <tr style=\"text-align: right;\">\n",
              "      <th></th>\n",
              "      <th>label</th>\n",
              "      <th>value</th>\n",
              "    </tr>\n",
              "  </thead>\n",
              "  <tbody>\n",
              "    <tr>\n",
              "      <th>0</th>\n",
              "      <td>A</td>\n",
              "      <td>1</td>\n",
              "    </tr>\n",
              "    <tr>\n",
              "      <th>1</th>\n",
              "      <td>B</td>\n",
              "      <td>2</td>\n",
              "    </tr>\n",
              "    <tr>\n",
              "      <th>2</th>\n",
              "      <td>C</td>\n",
              "      <td>3</td>\n",
              "    </tr>\n",
              "    <tr>\n",
              "      <th>3</th>\n",
              "      <td>A</td>\n",
              "      <td>4</td>\n",
              "    </tr>\n",
              "    <tr>\n",
              "      <th>4</th>\n",
              "      <td>B</td>\n",
              "      <td>5</td>\n",
              "    </tr>\n",
              "    <tr>\n",
              "      <th>5</th>\n",
              "      <td>C</td>\n",
              "      <td>6</td>\n",
              "    </tr>\n",
              "  </tbody>\n",
              "</table>\n",
              "</div>"
            ],
            "text/plain": [
              "  label  value\n",
              "0     A      1\n",
              "1     B      2\n",
              "2     C      3\n",
              "3     A      4\n",
              "4     B      5\n",
              "5     C      6"
            ]
          },
          "metadata": {
            "tags": []
          },
          "execution_count": 15
        }
      ]
    },
    {
      "cell_type": "code",
      "metadata": {
        "id": "jgv7moE95YMu",
        "colab_type": "code",
        "outputId": "d14d394e-e362-41d2-c3f1-bdc81d0b6c2a",
        "colab": {
          "base_uri": "https://localhost:8080/",
          "height": 265
        }
      },
      "source": [
        "import numpy as np\n",
        "from scipy import interpolate\n",
        "\n",
        "# choose eight points between 0 and 10\n",
        "x = np.linspace(0, 10, 8)\n",
        "y = np.sin(x)\n",
        "\n",
        "# create a cubic interpolation function\n",
        "func = interpolate.interp1d(x, y, kind='cubic')\n",
        "\n",
        "# interpolate on a grid of 1,000 points\n",
        "x_interp = np.linspace(0, 10, 1000)\n",
        "y_interp = func(x_interp)\n",
        "\n",
        "# plot the results\n",
        "plt.figure()  # new figure\n",
        "plt.plot(x, y, 'o')\n",
        "plt.plot(x_interp, y_interp);"
      ],
      "execution_count": 0,
      "outputs": [
        {
          "output_type": "display_data",
          "data": {
            "image/png": "[encoded data removed]",
            "text/plain": [
              "<Figure size 432x288 with 1 Axes>"
            ]
          },
          "metadata": {
            "tags": []
          }
        }
      ]
    }
  ]
}