{
  "nbformat": 4,
  "nbformat_minor": 0,
  "metadata": {
    "colab": {
      "name": "Write a Pipeline Supervise Learning.ipynb",
      "version": "0.3.2",
      "provenance": []
    },
    "kernelspec": {
      "name": "python3",
      "display_name": "Python 3"
    },
    "accelerator": "GPU"
  },
  "cells": [
    {
      "cell_type": "markdown",
      "metadata": {
        "id": "tKGn4ifXK7mj",
        "colab_type": "text"
      },
      "source": [
        "## Decision Tree"
      ]
    },
    {
      "cell_type": "code",
      "metadata": {
        "id": "BFbqM7xFK6Zm",
        "colab_type": "code",
        "outputId": "38e0824c-1ace-4f80-ba88-5f4cb2110698",
        "colab": {
          "base_uri": "https://localhost:8080/",
          "height": 34
        }
      },
      "source": [
        "from sklearn import datasets\n",
        "from sklearn import tree\n",
        "from sklearn.model_selection import train_test_split\n",
        "from sklearn.metrics import accuracy_score\n",
        "\n",
        "iris = datasets.load_iris()\n",
        "\n",
        "X = iris.data\n",
        "y = iris.target\n",
        "\n",
        "\n",
        "X_train, X_test, y_train, y_test = train_test_split (X, y, test_size = .5)\n",
        "                                                     \n",
        "my_classifier =  tree.DecisionTreeClassifier()\n",
        "\n",
        "my_classifier.fit(X_train, y_train)\n",
        "\n",
        "predictions = my_classifier.predict(X_test)\n",
        "\n",
        "\n",
        "print(accuracy_score(y_test,predictions ))"
      ],
      "execution_count": 0,
      "outputs": [
        {
          "output_type": "stream",
          "text": [
            "0.96\n"
          ],
          "name": "stdout"
        }
      ]
    },
    {
      "cell_type": "markdown",
      "metadata": {
        "id": "qCvkw-OhMALb",
        "colab_type": "text"
      },
      "source": [
        "## KNN "
      ]
    },
    {
      "cell_type": "code",
      "metadata": {
        "id": "TbWAv9ehMERr",
        "colab_type": "code",
        "outputId": "ab342cfb-d5d7-4ec9-d355-d0197c4b5566",
        "colab": {
          "base_uri": "https://localhost:8080/",
          "height": 34
        }
      },
      "source": [
        "from sklearn import datasets\n",
        "from sklearn import tree\n",
        "from sklearn.model_selection import train_test_split\n",
        "from sklearn.metrics import accuracy_score\n",
        "from sklearn.neighbors import KNeighborsClassifier\n",
        "\n",
        "iris = datasets.load_iris()\n",
        "\n",
        "X = iris.data\n",
        "y = iris.target\n",
        "\n",
        "\n",
        "X_train, X_test, y_train, y_test = train_test_split (X, y, test_size = .5)\n",
        "                                                     \n",
        "my_classifier =  KNeighborsClassifier()\n",
        "\n",
        "my_classifier.fit(X_train, y_train)\n",
        "\n",
        "predictions = my_classifier.predict(X_test)\n",
        "\n",
        "\n",
        "print(accuracy_score(y_test,predictions ))"
      ],
      "execution_count": 0,
      "outputs": [
        {
          "output_type": "stream",
          "text": [
            "0.96\n"
          ],
          "name": "stdout"
        }
      ]
    },
    {
      "cell_type": "markdown",
      "metadata": {
        "id": "jvn-pXmG9cRe",
        "colab_type": "text"
      },
      "source": [
        "## Write Own Classifier"
      ]
    },
    {
      "cell_type": "code",
      "metadata": {
        "id": "Pw4QkRBQ9hXm",
        "colab_type": "code",
        "outputId": "f7ec888d-18c0-44dc-e924-7fbe9aa3b9e8",
        "colab": {
          "base_uri": "https://localhost:8080/",
          "height": 34
        }
      },
      "source": [
        "import random\n",
        "from sklearn import datasets\n",
        "from sklearn import tree\n",
        "from sklearn.model_selection import train_test_split\n",
        "from sklearn.metrics import accuracy_score\n",
        "\n",
        "class ScrapyKNN():\n",
        "  def fit(self, X_train, y_train):\n",
        "      self.X_train = X_train\n",
        "      self.y_train = y_train\n",
        "      \n",
        "  def predict(self, X_test):\n",
        "      predictions = []\n",
        "      for row in X_test:\n",
        "          label = random.choice(self.y_train)\n",
        "          predictions.append(label)\n",
        "      return predictions\n",
        "\n",
        "iris = datasets.load_iris()\n",
        "\n",
        "X = iris.data\n",
        "y = iris.target\n",
        "\n",
        "\n",
        "# X_train, X_test, y_train, y_test = train_test_split (X, y, test_size = .5)\n",
        "                                                     \n",
        "my_classifier =  ScrapyKNN()\n",
        "\n",
        "my_classifier.fit(X_train, y_train)\n",
        "\n",
        "predictions = my_classifier.predict(X_test)\n",
        "\n",
        "\n",
        "print(accuracy_score(y_test,predictions ))"
      ],
      "execution_count": 0,
      "outputs": [
        {
          "output_type": "stream",
          "text": [
            "0.28\n"
          ],
          "name": "stdout"
        }
      ]
    },
    {
      "cell_type": "code",
      "metadata": {
        "id": "cQAaU3eP_HVf",
        "colab_type": "code",
        "colab": {}
      },
      "source": [
        ""
      ],
      "execution_count": 0,
      "outputs": []
    },
    {
      "cell_type": "markdown",
      "metadata": {
        "id": "v7nxzgHAyaG-",
        "colab_type": "text"
      },
      "source": [
        "### Accuracy is so poor, lets fixed bug"
      ]
    },
    {
      "cell_type": "code",
      "metadata": {
        "id": "COkrgRy90pN5",
        "colab_type": "code",
        "outputId": "c0a536d9-3df2-4000-ccb3-a92fcc79f01c",
        "colab": {
          "base_uri": "https://localhost:8080/",
          "height": 34
        }
      },
      "source": [
        "from scipy.spatial import distance\n",
        "from sklearn import datasets\n",
        "from sklearn import tree\n",
        "from sklearn.model_selection import train_test_split\n",
        "from sklearn.metrics import accuracy_score\n",
        "\n",
        "def euc(a,b):\n",
        "  return distance.euclidean(a,b)\n",
        "  \n",
        "\n",
        "class ScrapyKNN():\n",
        "  def fit(self, X_train, y_train):\n",
        "      self.X_train = X_train\n",
        "      self.y_train = y_train\n",
        "      \n",
        "  def predict(self, X_test):\n",
        "      predictions = []\n",
        "      for row in X_test:\n",
        "          label = self.closest(row)\n",
        "          predictions.append(label)\n",
        "      return predictions\n",
        "  def closest(self, row):\n",
        "    best_dist =  euc(row, self.X_train[0])\n",
        "    best_index = 0\n",
        "    for i in range(1, len(self.X_train)):\n",
        "      dist = euc(row, self.X_train[i])\n",
        "      if dist < best_dist:\n",
        "        best_dist =  dist\n",
        "        best_index = i\n",
        "    return self.y_train[best_index]\n",
        "\n",
        "iris = datasets.load_iris()\n",
        "\n",
        "X = iris.data\n",
        "y = iris.target\n",
        "\n",
        "\n",
        "# X_train, X_test, y_train, y_test = train_test_split (X, y, test_size = .5)\n",
        "                                                     \n",
        "my_classifier =  ScrapyKNN()\n",
        "\n",
        "my_classifier.fit(X_train, y_train)\n",
        "\n",
        "predictions = my_classifier.predict(X_test)\n",
        "\n",
        "\n",
        "print(accuracy_score(y_test,predictions ))"
      ],
      "execution_count": 0,
      "outputs": [
        {
          "output_type": "stream",
          "text": [
            "0.96\n"
          ],
          "name": "stdout"
        }
      ]
    }
  ]
}