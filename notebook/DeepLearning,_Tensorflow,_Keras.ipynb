{
  "nbformat": 4,
  "nbformat_minor": 0,
  "metadata": {
    "colab": {
      "name": "DeepLearning, Tensorflow, Keras.ipynb",
      "version": "0.3.2",
      "provenance": []
    },
    "kernelspec": {
      "name": "python3",
      "display_name": "Python 3"
    }
  },
  "cells": [
    {
      "cell_type": "markdown",
      "metadata": {
        "id": "qdT5MfcYnqWH",
        "colab_type": "text"
      },
      "source": [
        "Check TF Version"
      ]
    },
    {
      "cell_type": "code",
      "metadata": {
        "id": "Egbfpl3Lnv-i",
        "colab_type": "code",
        "outputId": "25cfa6ae-9d57-40b7-8b43-3e6e96eeff1a",
        "colab": {
          "base_uri": "https://localhost:8080/",
          "height": 34
        }
      },
      "source": [
        "import tensorflow as tf\n",
        "tf.__version__"
      ],
      "execution_count": 0,
      "outputs": [
        {
          "output_type": "execute_result",
          "data": {
            "text/plain": [
              "'1.14.0-rc1'"
            ]
          },
          "metadata": {
            "tags": []
          },
          "execution_count": 4
        }
      ]
    },
    {
      "cell_type": "code",
      "metadata": {
        "id": "O4EqpIAguFnv",
        "colab_type": "code",
        "outputId": "e7006469-cd9d-42fb-9b25-c1b4687dcfa9",
        "colab": {
          "base_uri": "https://localhost:8080/",
          "height": 136
        }
      },
      "source": [
        "import tensorflow as tf\n",
        "\n",
        "mnist = tf.keras.datasets.mnist # 28*28 images of hand written digit 0-9\n",
        "\n",
        "(x_train, y_train),(x_test, y_test) = mnist.load_data()\n",
        "\n",
        "#normalize\n",
        "\n",
        "x_train = tf.keras.utils.normalize(x_train, axis=1)\n",
        "x_test = tf.keras.utils.normalize(x_test, axis=1)\n",
        "\n",
        "#build model\n",
        "\n",
        "model = tf.keras.models.Sequential() #Sequential feed forword\n",
        "model.add(tf.keras.layers.Flatten())\n",
        "model.add(tf.keras.layers.Dense(128, activation=tf.nn.relu)) #sigma activation layer\n",
        "model.add(tf.keras.layers.Dense(128, activation=tf.nn.relu)) #sigma actication layer\n",
        "model.add(tf.keras.layers.Dense(10, activation=tf.nn.softmax)) #classification number of softmax probabilty distribution \n",
        "                                                        #10 because dataset is numbers from 0 - 9\n",
        "    \n",
        "model.compile(optimizer='adam',\n",
        "              loss='sparse_categorical_crossentropy',\n",
        "              metrics=['accuracy'])\n",
        "\n",
        "model.fit(x_train, y_train, epochs=3)\n"
      ],
      "execution_count": 13,
      "outputs": [
        {
          "output_type": "stream",
          "text": [
            "Epoch 1/3\n",
            "60000/60000 [==============================] - 5s 77us/sample - loss: 0.2659 - acc: 0.9227\n",
            "Epoch 2/3\n",
            "60000/60000 [==============================] - 5s 79us/sample - loss: 0.1075 - acc: 0.9668\n",
            "Epoch 3/3\n",
            "60000/60000 [==============================] - 5s 79us/sample - loss: 0.0719 - acc: 0.9773\n"
          ],
          "name": "stdout"
        },
        {
          "output_type": "execute_result",
          "data": {
            "text/plain": [
              "<tensorflow.python.keras.callbacks.History at 0x7f09ba39da20>"
            ]
          },
          "metadata": {
            "tags": []
          },
          "execution_count": 13
        }
      ]
    },
    {
      "cell_type": "code",
      "metadata": {
        "id": "YCuBJZa76UuC",
        "colab_type": "code",
        "outputId": "52263739-6f9f-45cd-a0e2-dac9cb4108f6",
        "colab": {
          "base_uri": "https://localhost:8080/",
          "height": 51
        }
      },
      "source": [
        "val_loss , val_acc = model.evaluate(x_test, y_test)\n",
        "print(val_loss , val_acc )\n"
      ],
      "execution_count": 2,
      "outputs": [
        {
          "output_type": "stream",
          "text": [
            "10000/10000 [==============================] - 0s 35us/sample - loss: 0.0983 - acc: 0.9689\n",
            "0.09826816780641676 0.9689\n"
          ],
          "name": "stdout"
        }
      ]
    },
    {
      "cell_type": "code",
      "metadata": {
        "id": "RFCbTT7bvCbg",
        "colab_type": "code",
        "outputId": "800e5dca-0fe0-4e6f-b19a-4173e5cd7820",
        "colab": {
          "base_uri": "https://localhost:8080/",
          "height": 269
        }
      },
      "source": [
        "import matplotlib.pyplot as plt\n",
        "plt.imshow(x_train[0], cmap = plt.cm.binary)\n",
        "plt.show()"
      ],
      "execution_count": 11,
      "outputs": [
        {
          "output_type": "display_data",
          "data": {
            "image/png": "[encoded data removed]",
            "text/plain": [
              "<Figure size 432x288 with 1 Axes>"
            ]
          },
          "metadata": {
            "tags": []
          }
        }
      ]
    },
    {
      "cell_type": "code",
      "metadata": {
        "id": "QP1azxipu__3",
        "colab_type": "code",
        "colab": {
          "base_uri": "https://localhost:8080/",
          "height": 289
        },
        "outputId": "2123a590-5903-409b-a6e2-655948eff003"
      },
      "source": [
        "model.save('my_model.h5')\n",
        "model.summary()"
      ],
      "execution_count": 17,
      "outputs": [
        {
          "output_type": "stream",
          "text": [
            "Model: \"sequential_1\"\n",
            "_________________________________________________________________\n",
            "Layer (type)                 Output Shape              Param #   \n",
            "=================================================================\n",
            "flatten_1 (Flatten)          multiple                  0         \n",
            "_________________________________________________________________\n",
            "dense_3 (Dense)              multiple                  100480    \n",
            "_________________________________________________________________\n",
            "dense_4 (Dense)              multiple                  16512     \n",
            "_________________________________________________________________\n",
            "dense_5 (Dense)              multiple                  1290      \n",
            "=================================================================\n",
            "Total params: 118,282\n",
            "Trainable params: 118,282\n",
            "Non-trainable params: 0\n",
            "_________________________________________________________________\n"
          ],
          "name": "stdout"
        }
      ]
    },
    {
      "cell_type": "code",
      "metadata": {
        "id": "4qBftCgS7G8Q",
        "colab_type": "code",
        "outputId": "5f6f07c2-c034-4594-e037-6d9b7e33c031",
        "colab": {
          "base_uri": "https://localhost:8080/",
          "height": 156
        }
      },
      "source": [
        "new_model = tf.keras.models.load_model('my_model.h5')\n"
      ],
      "execution_count": 19,
      "outputs": [
        {
          "output_type": "stream",
          "text": [
            "W0617 01:44:34.626943 139680244025216 deprecation.py:506] From /usr/local/lib/python3.6/dist-packages/tensorflow/python/ops/init_ops.py:97: calling GlorotUniform.__init__ (from tensorflow.python.ops.init_ops) with dtype is deprecated and will be removed in a future version.\n",
            "Instructions for updating:\n",
            "Call initializer instance with the dtype argument instead of passing it to the constructor\n",
            "W0617 01:44:34.629200 139680244025216 deprecation.py:506] From /usr/local/lib/python3.6/dist-packages/tensorflow/python/ops/init_ops.py:97: calling Zeros.__init__ (from tensorflow.python.ops.init_ops) with dtype is deprecated and will be removed in a future version.\n",
            "Instructions for updating:\n",
            "Call initializer instance with the dtype argument instead of passing it to the constructor\n",
            "W0617 01:44:34.808696 139680244025216 hdf5_format.py:263] Sequential models without an `input_shape` passed to the first layer cannot reload their optimizer state. As a result, your model isstarting with a freshly initialized optimizer.\n"
          ],
          "name": "stderr"
        }
      ]
    },
    {
      "cell_type": "code",
      "metadata": {
        "id": "QkH0k2M77w2n",
        "colab_type": "code",
        "outputId": "7fde10a1-864c-4030-906b-0584186ab37c",
        "colab": {
          "base_uri": "https://localhost:8080/",
          "height": 238
        }
      },
      "source": [
        "predictions = new_model.predict(x_test)\n",
        "print(predictions)"
      ],
      "execution_count": 24,
      "outputs": [
        {
          "output_type": "stream",
          "text": [
            "[[3.40655326e-09 2.35780693e-08 8.59125339e-06 ... 9.99970794e-01\n",
            "  6.07547008e-08 3.79545995e-09]\n",
            " [1.34194170e-10 8.25251409e-05 9.99902725e-01 ... 7.36996508e-09\n",
            "  5.25862696e-08 4.06176343e-11]\n",
            " [3.09661097e-08 9.99721825e-01 6.36951017e-06 ... 1.30958928e-04\n",
            "  7.60632320e-05 2.68455392e-06]\n",
            " ...\n",
            " [1.48356571e-09 2.25516914e-07 4.05843927e-08 ... 1.17508780e-05\n",
            "  4.27140230e-06 1.53564732e-04]\n",
            " [7.91697687e-07 1.49717125e-05 1.38840107e-06 ... 2.10606286e-05\n",
            "  1.63374899e-03 6.19540774e-09]\n",
            " [3.98552288e-07 1.96460199e-08 1.95970870e-06 ... 4.30372227e-09\n",
            "  1.55013311e-06 1.94833105e-09]]\n"
          ],
          "name": "stdout"
        }
      ]
    },
    {
      "cell_type": "code",
      "metadata": {
        "id": "6SEM87Kj9ocf",
        "colab_type": "code",
        "outputId": "45165426-d9c4-4175-ef53-22d23c88ba46",
        "colab": {
          "base_uri": "https://localhost:8080/",
          "height": 286
        }
      },
      "source": [
        "predictions = new_model.predict(x_test)\n",
        "import numpy as np\n",
        "\n",
        "print(np.argmax(predictions[0]))\n",
        "plt.imshow(x_test[0],cmap=plt.cm.binary)\n",
        "plt.show()"
      ],
      "execution_count": 23,
      "outputs": [
        {
          "output_type": "stream",
          "text": [
            "7\n"
          ],
          "name": "stdout"
        },
        {
          "output_type": "display_data",
          "data": {
            "image/png": "[encoded data removed]",
            "text/plain": [
              "<Figure size 432x288 with 1 Axes>"
            ]
          },
          "metadata": {
            "tags": []
          }
        }
      ]
    },
    {
      "cell_type": "code",
      "metadata": {
        "id": "8dC3w7TD831T",
        "colab_type": "code",
        "colab": {}
      },
      "source": [
        ""
      ],
      "execution_count": 0,
      "outputs": []
    }
  ]
}