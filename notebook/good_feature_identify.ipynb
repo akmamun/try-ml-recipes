{
  "nbformat": 4,
  "nbformat_minor": 0,
  "metadata": {
    "colab": {
      "name": "Good Feature Identify.ipynb",
      "version": "0.3.2",
      "provenance": [],
      "collapsed_sections": []
    },
    "kernelspec": {
      "name": "python3",
      "display_name": "Python 3"
    }
  },
  "cells": [
    {
      "cell_type": "markdown",
      "metadata": {
        "id": "NkJPiQSKMghF",
        "colab_type": "text"
      },
      "source": [
        "## How to Find good features with a example of two types of dog and show matlab plot\n",
        "### Two types of dogs greyhounds and labradors\n",
        "**Note** We **avoid** dogs height feature because its unnecessary feature"
      ]
    },
    {
      "cell_type": "code",
      "metadata": {
        "id": "qiB5398BMy8-",
        "colab_type": "code",
        "outputId": "383c998c-d4f8-4737-9de2-6a8071151f95",
        "colab": {
          "base_uri": "https://localhost:8080/",
          "height": 269
        }
      },
      "source": [
        "import numpy as np\n",
        "import matplotlib.pyplot as plt\n",
        "\n",
        "greyhouds = 500\n",
        "labs = 500\n",
        "\n",
        "grey_height =  28 + 4 * np.random.randn(greyhouds)\n",
        "labs_height = 24 + 4 * np.random.randn(labs)\n",
        "\n",
        "plt.hist([grey_height,labs_height], stacked=True,color=['r', 'b'])\n",
        "plt.show()"
      ],
      "execution_count": 0,
      "outputs": [
        {
          "output_type": "display_data",
          "data": {
            "image/png": "[encoded data removed]",
            "text/plain": [
              "<Figure size 432x288 with 1 Axes>"
            ]
          },
          "metadata": {
            "tags": []
          }
        }
      ]
    }
  ]
}