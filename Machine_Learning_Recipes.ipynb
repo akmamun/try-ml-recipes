{
  "nbformat": 4,
  "nbformat_minor": 0,
  "metadata": {
    "colab": {
      "name": "Machine Learning Recipes.ipynb",
      "version": "0.3.2",
      "provenance": []
    },
    "kernelspec": {
      "name": "python3",
      "display_name": "Python 3"
    }
  },
  "cells": [
    {
      "cell_type": "code",
      "metadata": {
        "id": "TVzvXI2lYlXx",
        "colab_type": "code",
        "colab": {}
      },
      "source": [
        "import sklearn"
      ],
      "execution_count": 0,
      "outputs": []
    },
    {
      "cell_type": "code",
      "metadata": {
        "id": "DT4kAnYAZ8Ab",
        "colab_type": "code",
        "colab": {}
      },
      "source": [
        "features = [[140,\"smooth\"],[130, \"smooth\"],[150, \"bumpy\"],[170,\"bumpy\"]]\n",
        "labels =[\"apple\", \"apple\", \"orange\", \"orange\"]"
      ],
      "execution_count": 0,
      "outputs": []
    },
    {
      "cell_type": "markdown",
      "metadata": {
        "id": "dxZHENluaRzL",
        "colab_type": "text"
      },
      "source": [
        "# Define feature as a number and lables also\n",
        "smooth = 0\n",
        "bumpy = 0\n",
        "apple = 0\n",
        "orange = 1"
      ]
    },
    {
      "cell_type": "code",
      "metadata": {
        "id": "r3CzSavRaaEB",
        "colab_type": "code",
        "colab": {}
      },
      "source": [
        "from sklearn import tree"
      ],
      "execution_count": 0,
      "outputs": []
    },
    {
      "cell_type": "code",
      "metadata": {
        "id": "pN9SvB3Yhq8A",
        "colab_type": "code",
        "colab": {}
      },
      "source": [
        "features = [[140,1],[130,1],[150, 0],[170,0]]\n",
        "labels =[0,0,1,1]"
      ],
      "execution_count": 0,
      "outputs": []
    },
    {
      "cell_type": "code",
      "metadata": {
        "id": "FmZuE6eBh4gZ",
        "colab_type": "code",
        "colab": {}
      },
      "source": [
        "classifier = tree.DecisionTreeClassifier()"
      ],
      "execution_count": 0,
      "outputs": []
    },
    {
      "cell_type": "code",
      "metadata": {
        "id": "3qkzA7yviQm2",
        "colab_type": "code",
        "outputId": "ef437ca3-8469-4c21-aebf-05e04d22125a",
        "colab": {
          "base_uri": "https://localhost:8080/",
          "height": 34
        }
      },
      "source": [
        "classifier.fit(features, labels)\n",
        "print(classifier.predict([[150,0]]))"
      ],
      "execution_count": 0,
      "outputs": [
        {
          "output_type": "stream",
          "text": [
            "[0]\n"
          ],
          "name": "stdout"
        }
      ]
    },
    {
      "cell_type": "markdown",
      "metadata": {
        "id": "Uhxwv0a3j-qs",
        "colab_type": "text"
      },
      "source": [
        "**Traning Visualisation wih Pandas Data Frame**\n",
        "All Data in kilogram"
      ]
    },
    {
      "cell_type": "code",
      "metadata": {
        "id": "CODGRouxkPhi",
        "colab_type": "code",
        "outputId": "b59d87de-0e7a-43b3-8cab-bfbef9d613d2",
        "colab": {
          "base_uri": "https://localhost:8080/",
          "height": 102
        }
      },
      "source": [
        "import pandas as pd\n",
        "data = {'features' :  [[140,\"smooth\"],[130, \"smooth\"],[150, \"bumpy\"],[170,\"bumpy\"]],\n",
        "        'labels' : [\"apple\", \"apple\", \"orange\", \"orange\"],\n",
        "       'decition': [0,0,1,1]\n",
        "       }\n",
        "pf = pd.DataFrame(data)\n",
        "print(pf)"
      ],
      "execution_count": 0,
      "outputs": [
        {
          "output_type": "stream",
          "text": [
            "        features  labels  decition\n",
            "0  [140, smooth]   apple         0\n",
            "1  [130, smooth]   apple         0\n",
            "2   [150, bumpy]  orange         1\n",
            "3   [170, bumpy]  orange         1\n"
          ],
          "name": "stdout"
        }
      ]
    }
  ]
}